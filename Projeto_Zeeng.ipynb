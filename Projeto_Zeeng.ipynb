{
 "cells": [
  {
   "cell_type": "code",
   "execution_count": 47,
   "id": "2f70252a",
   "metadata": {},
   "outputs": [],
   "source": [
    "import pandas as pd\n",
    "from pymongo import MongoClient\n",
    "import json\n",
    "import requests"
   ]
  },
  {
   "cell_type": "code",
   "execution_count": 48,
   "id": "c28f0979",
   "metadata": {},
   "outputs": [],
   "source": [
    "#conecta na API zeeng e extrai dados de clientes para cadastro\n",
    "secret_chave='035a5784d9368a7edeead6f178a16fb8' #ideal criar um modelo de anonimização de chave\n",
    "link_api='http://api.zeeng.com.br/empresa/getempresas?chave={}'.format(secret_chave)\n",
    "\n",
    "resp = requests.get(link_api)\n",
    "df_z= pd.DataFrame.from_dict(resp.json())"
   ]
  },
  {
   "cell_type": "code",
   "execution_count": 49,
   "id": "7b627957",
   "metadata": {},
   "outputs": [],
   "source": [
    "def remove_dados (Midia, Data_inicio,Data_fim):\n",
    "    qry=\"db.{}.remove({{'Data': {{'$gt': ISODate('{}'),'$lt': ISODate('{}')}}}})\".format(Midia,Data_inicio,Data_fim)\n",
    "    #qry=\"db.{}.remove({{'Data': \".format(Midia)\n",
    "    db.command(qry)\n",
    "\n",
    "#função para adicionar coluna de id da zeeng nos dados externos\n",
    "def insere_colunas(vdf):\n",
    "    vdf = pd.merge(vdf,df_z, left_on='Marca',right_on='NomeEmpresa')\n",
    "    vdf.drop(['NomeEmpresa','DataCadastro','Setor'], inplace=True, axis=1)\n",
    "    return vdf"
   ]
  },
  {
   "cell_type": "code",
   "execution_count": 50,
   "id": "5233a810",
   "metadata": {},
   "outputs": [],
   "source": [
    "# Conecta no MongoDB\n",
    "client = MongoClient('127.0.0.1')\n",
    "db=client.admin\n",
    "# Teste de conexão apenas\n",
    "#serverStatusResult=db.command(\"serverStatus\")\n",
    "#print(serverStatusResult)"
   ]
  },
  {
   "cell_type": "code",
   "execution_count": 51,
   "id": "a444b0eb",
   "metadata": {},
   "outputs": [],
   "source": [
    "db=client.Midias"
   ]
  },
  {
   "cell_type": "code",
   "execution_count": 52,
   "id": "6b5d9f3d",
   "metadata": {},
   "outputs": [],
   "source": [
    "df= pd.read_excel('/home/rluvian/Downloads/base_midias.xlsx',sheet_name='TV')\n",
    "# TV, FOLHETOS, IMPRESSOa"
   ]
  },
  {
   "cell_type": "code",
   "execution_count": 53,
   "id": "bcc873c6",
   "metadata": {},
   "outputs": [],
   "source": [
    "#Adiciona o id do sistema zeeng aos dados Cibracom\n",
    "df = insere_colunas(df)"
   ]
  },
  {
   "cell_type": "code",
   "execution_count": 54,
   "id": "5505427d",
   "metadata": {},
   "outputs": [],
   "source": [
    "#Replica as linhas separadas por virgula\n",
    "df=df.assign(Praça=df['Praça'].str.split(',')).explode('Praça')"
   ]
  },
  {
   "cell_type": "code",
   "execution_count": 55,
   "id": "8aa5fc90",
   "metadata": {
    "scrolled": true
   },
   "outputs": [
    {
     "data": {
      "text/plain": [
       "<pymongo.results.DeleteResult at 0x7f79c4d27180>"
      ]
     },
     "execution_count": 55,
     "metadata": {},
     "output_type": "execute_result"
    }
   ],
   "source": [
    "#Caso seja um reprocessamento deleta os dados existentes no banco\n",
    "db.TV.delete_many({'Data': {'$gte': min(df['Data']), '$lte': max(df['Data'])}})"
   ]
  },
  {
   "cell_type": "code",
   "execution_count": 56,
   "id": "3f516244",
   "metadata": {},
   "outputs": [
    {
     "name": "stderr",
     "output_type": "stream",
     "text": [
      "/home/rluvian/.local/lib/python3.8/site-packages/pandas/core/frame.py:1549: FutureWarning: Using short name for 'orient' is deprecated. Only the options: ('dict', list, 'series', 'split', 'records', 'index') will be used in a future version. Use one of the above to silence this warning.\n",
      "  warnings.warn(\n"
     ]
    }
   ],
   "source": [
    "#Insere os registros no banco\n",
    "dic = df.to_dict(orient='row')\n",
    "rs = db.TV.insert_many(dic)"
   ]
  },
  {
   "cell_type": "code",
   "execution_count": 58,
   "id": "f6d61be8",
   "metadata": {},
   "outputs": [],
   "source": [
    "df= pd.read_excel('/home/rluvian/Downloads/base_midias.xlsx',sheet_name='FOLHETOS')\n",
    "#Adiciona o id do sistema zeeng aos dados Cibracom\n",
    "df = insere_colunas(df)\n",
    "#Replica as linhas separadas por virgula\n",
    "#df=df.assign(Praça=df['Praça'].str.split(',')).explode('Praça')\n",
    "#Caso seja um reprocessamento deleta os dados existentes no banco\n",
    "db.Folhetos.delete_many({'Data': {'$gte': min(df['Data']), '$lte': max(df['Data'])}})\n",
    "#Insere os registros no banco\n",
    "dic = df.to_dict(orient='row')\n",
    "rs = db.Folhetos.insert_many(dic)"
   ]
  },
  {
   "cell_type": "code",
   "execution_count": 59,
   "id": "dee96b7c",
   "metadata": {},
   "outputs": [],
   "source": [
    "df= pd.read_excel('/home/rluvian/Downloads/base_midias.xlsx',sheet_name='IMPRESSA')\n",
    "#Adiciona o id do sistema zeeng aos dados Cibracom\n",
    "df = insere_colunas(df)\n",
    "#Replica as linhas separadas por virgula\n",
    "df=df.assign(Praça=df['Praça'].str.split(',')).explode('Praça')\n",
    "#Caso seja um reprocessamento deleta os dados existentes no banco\n",
    "db.Impressos.delete_many({'Data': {'$gte': min(df['Data']), '$lte': max(df['Data'])}})\n",
    "#Insere os registros no banco\n",
    "dic = df.to_dict(orient='row')\n",
    "rs = db.Impressos.insert_many(dic)"
   ]
  },
  {
   "cell_type": "code",
   "execution_count": null,
   "id": "b3110d6f",
   "metadata": {},
   "outputs": [],
   "source": []
  }
 ],
 "metadata": {
  "kernelspec": {
   "display_name": "Python 3",
   "language": "python",
   "name": "python3"
  },
  "language_info": {
   "codemirror_mode": {
    "name": "ipython",
    "version": 3
   },
   "file_extension": ".py",
   "mimetype": "text/x-python",
   "name": "python",
   "nbconvert_exporter": "python",
   "pygments_lexer": "ipython3",
   "version": "3.8.5"
  }
 },
 "nbformat": 4,
 "nbformat_minor": 5
}
